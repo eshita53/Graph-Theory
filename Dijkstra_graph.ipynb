{
 "cells": [
  {
   "cell_type": "code",
   "execution_count": 51,
   "id": "utility-intersection",
   "metadata": {},
   "outputs": [],
   "source": [
    "import networkx as nx"
   ]
  },
  {
   "cell_type": "code",
   "execution_count": 52,
   "id": "surface-thermal",
   "metadata": {},
   "outputs": [],
   "source": [
    "g = nx.Graph()"
   ]
  },
  {
   "cell_type": "code",
   "execution_count": 53,
   "id": "apparent-citation",
   "metadata": {},
   "outputs": [],
   "source": [
    "g.add_edges_from([\n",
    "    ('S', 'A', {'d': 7}),\n",
    "    ('S', 'B', {'d': 2}),\n",
    "    ('S', 'C', {'d': 3}),\n",
    "    ('A', 'B', {'d': 3}),\n",
    "    ('A', 'D', {'d': 4}),\n",
    "    ('B', 'D', {'d': 4}),\n",
    "    ('B', 'H', {'d': 1}),\n",
    "    ('C', 'L', {'d': 2}),\n",
    "    ('D', 'F', {'d': 5}),\n",
    "    ('H', 'F', {'d': 3}),\n",
    "    ('H', 'G', {'d': 2}),\n",
    "    ('G', 'E', {'d': 2}),\n",
    "    ('L', 'I', {'d': 4}),\n",
    "    ('L', 'J', {'d': 4}),\n",
    "    ('I', 'J', {'d': 6}),\n",
    "    ('I', 'K', {'d': 4}),\n",
    "    ('J', 'K', {'d': 4}),\n",
    "    ('E', 'K', {'d': 5}),\n",
    "])"
   ]
  },
  {
   "cell_type": "code",
   "execution_count": 63,
   "id": "existing-cameroon",
   "metadata": {},
   "outputs": [],
   "source": [
    "for edge in g.edges:\n",
    "    distance = g.edges[edge]['d']\n",
    "    g.edges[edge]['w'] = 1/distance"
   ]
  },
  {
   "cell_type": "code",
   "execution_count": 64,
   "id": "supposed-revelation",
   "metadata": {},
   "outputs": [
    {
     "data": {
      "image/png": "[encoded data removed]",
      "text/plain": [
       "<Figure size 432x288 with 1 Axes>"
      ]
     },
     "metadata": {},
     "output_type": "display_data"
    }
   ],
   "source": [
    "pos = nx.spring_layout(g, weight='w', iterations=250)\n",
    "nx.draw_networkx(g, pos=pos)\n",
    "nx.draw_networkx_edge_labels(g, pos=pos, edge_labels=nx.get_edge_attributes(g, 'd'));"
   ]
  },
  {
   "cell_type": "code",
   "execution_count": 68,
   "id": "laughing-welcome",
   "metadata": {},
   "outputs": [],
   "source": [
    "import json\n",
    "with open('graph.json', 'w') as fout:\n",
    "    json.dump(nx.cytoscape_data(g), fout, indent=4)"
   ]
  },
  {
   "cell_type": "code",
   "execution_count": 74,
   "id": "democratic-attendance",
   "metadata": {},
   "outputs": [
    {
     "data": {
      "text/plain": [
       "['S', 'B', 'H', 'G', 'E']"
      ]
     },
     "execution_count": 74,
     "metadata": {},
     "output_type": "execute_result"
    }
   ],
   "source": [
    "nx.shortest_path(g, 'S', 'E', weight='d')"
   ]
  },
  {
   "cell_type": "code",
   "execution_count": null,
   "id": "unexpected-merchandise",
   "metadata": {},
   "outputs": [],
   "source": []
  }
 ],
 "metadata": {
  "kernelspec": {
   "display_name": "Python 3",
   "language": "python",
   "name": "python3"
  },
  "language_info": {
   "codemirror_mode": {
    "name": "ipython",
    "version": 3
   },
   "file_extension": ".py",
   "mimetype": "text/x-python",
   "name": "python",
   "nbconvert_exporter": "python",
   "pygments_lexer": "ipython3",
   "version": "3.9.2"
  }
 },
 "nbformat": 4,
 "nbformat_minor": 5
}
